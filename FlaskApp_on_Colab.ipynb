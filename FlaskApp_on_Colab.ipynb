{
  "nbformat": 4,
  "nbformat_minor": 0,
  "metadata": {
    "colab": {
      "name": "FlaskApp_on_Colab.ipynb",
      "provenance": []
    },
    "kernelspec": {
      "name": "python3",
      "display_name": "Python 3"
    }
  },
  "cells": [
    {
      "cell_type": "code",
      "metadata": {
        "id": "_vLQRG0uI26q",
        "colab_type": "code",
        "outputId": "8d56aee6-74d9-4ae5-9059-5b93ca9cb517",
        "colab": {
          "base_uri": "https://localhost:8080/",
          "height": 67
        }
      },
      "source": [
        "!pip install textblob"
      ],
      "execution_count": 0,
      "outputs": [
        {
          "output_type": "stream",
          "text": [
            "Requirement already satisfied: textblob in /usr/local/lib/python3.6/dist-packages (0.15.3)\n",
            "Requirement already satisfied: nltk>=3.1 in /usr/local/lib/python3.6/dist-packages (from textblob) (3.2.5)\n",
            "Requirement already satisfied: six in /usr/local/lib/python3.6/dist-packages (from nltk>=3.1->textblob) (1.12.0)\n"
          ],
          "name": "stdout"
        }
      ]
    },
    {
      "cell_type": "code",
      "metadata": {
        "id": "5WhNrdbycEJ9",
        "colab_type": "code",
        "outputId": "2cce3ef8-e4c2-40f0-8c4e-2997716ad4c7",
        "colab": {
          "base_uri": "https://localhost:8080/",
          "height": 33
        }
      },
      "source": [
        "%%writefile requirements.txt\n",
        "Flask==0.12.2"
      ],
      "execution_count": 8,
      "outputs": [
        {
          "output_type": "stream",
          "text": [
            "Overwriting requirements.txt\n"
          ],
          "name": "stdout"
        }
      ]
    },
    {
      "cell_type": "code",
      "metadata": {
        "id": "5WQyxfHHJCoh",
        "colab_type": "code",
        "colab": {}
      },
      "source": [
        "get_ipython().system_raw(\n",
        "    'pip3 install -r requirements.txt && python3 main.py > logs.txt 2>&1 &'\n",
        ")"
      ],
      "execution_count": 0,
      "outputs": []
    },
    {
      "cell_type": "code",
      "metadata": {
        "id": "OTKEo9D1dFjT",
        "colab_type": "code",
        "colab": {}
      },
      "source": [
        "%mkdir templates -p"
      ],
      "execution_count": 0,
      "outputs": []
    },
    {
      "cell_type": "code",
      "metadata": {
        "id": "jVUv1l_5dH2U",
        "colab_type": "code",
        "outputId": "e3eaa4e4-0535-4901-c11f-cde85266d511",
        "colab": {
          "base_uri": "https://localhost:8080/",
          "height": 33
        }
      },
      "source": [
        "%%writefile templates/index.html\n",
        "<!DOCTYPE html>\n",
        "<html>\n",
        "<head>\n",
        "  <script src=\"https://ajax.googleapis.com/ajax/libs/jquery/1.9.1/jquery.min.js\"></script>\n",
        "  <title>Flask Sentiment Analysis</title>\n",
        "  <meta name=\"viewport\" content=\"width=device-width, initial-scale=1\">\n",
        "  <!-- Web Application Manifest -->\n",
        "  <link rel=\"manifest\" href='data:application/manifest+json,{ \"name\": \"Flask Chat\", \"short_name\": \"Flask Chat\", \"display\": \"standalone\" }' />\n",
        "  \n",
        "<style>\n",
        "body {font-family: Arial, Helvetica, sans-serif;\n",
        "background-color:   #e6ecff;}\n",
        "* {box-sizing: border-box;}\n",
        "\n",
        "input[type=text], select, textarea {\n",
        "  width: 100%;\n",
        "  padding: 12px;\n",
        "  border: 1px solid #ccc;\n",
        "  border-radius: 4px;\n",
        "  box-sizing: border-box;\n",
        "  margin-top: 6px;\n",
        "  margin-bottom: 16px;\n",
        "  resize: vertical;\n",
        "}\n",
        "\n",
        "input[type=submit] {\n",
        "  background-color: #4CAF50;\n",
        "  color: white;\n",
        "  padding: 12px 20px;\n",
        "  border: none;\n",
        "  border-radius: 4px;\n",
        "  cursor: pointer;\n",
        "}\n",
        "\n",
        "input[type=submit]:hover {\n",
        "  background-color: #45a049;\n",
        "}\n",
        "\n",
        ".container {\n",
        "  border-radius: 5px;\n",
        "  background-color:  #f2f2f2;\n",
        "  padding: 20px;\n",
        "}\n",
        "</style>\n",
        "</head>\n",
        "<body>\n",
        "  <h1 align=\"center\" style=\"color: #000066\">SENTIMENT ANALYSER USING FLASK</h1>\n",
        "\n",
        "  <div class=\"container\">\n",
        "\n",
        "<form id=\"form\"> \n",
        "  <label for=\"subject\">Present your thoughts here to analyze</label>\n",
        "    <textarea id=\"name\" name=\"name\" placeholder=\"Write something..\" style=\"height:200px\"></textarea>\n",
        "  <input type = \"submit\" name = \"submit\"> <!-- submit event -->  \n",
        "</form>\n",
        "</div>\n",
        "<h2>Analysis : <span id=\"polarity\"><span></h2>\n",
        "\n",
        "<script>\n",
        "  $(\"#form\").submit(function (e) {\n",
        "    e.preventDefault();\n",
        "    $.ajax({\n",
        "      data: {\n",
        "        name: $(\"#name\").val()\n",
        "      },\n",
        "      type: 'POST',\n",
        "      url: '/predict'\n",
        "      }).done(function(data) {\n",
        "      $(\"#polarity\").text(data[\"result\"]);\n",
        "      });\n",
        "  });\n",
        "      \n",
        "</script>\n",
        "</body>\n",
        "</html>"
      ],
      "execution_count": 0,
      "outputs": [
        {
          "output_type": "stream",
          "text": [
            "Writing templates/index.html\n"
          ],
          "name": "stdout"
        }
      ]
    },
    {
      "cell_type": "code",
      "metadata": {
        "id": "qxZdb1g7dV7U",
        "colab_type": "code",
        "outputId": "1f908fc0-ae9d-438c-834f-880d7cd0ec1d",
        "colab": {
          "base_uri": "https://localhost:8080/",
          "height": 33
        }
      },
      "source": [
        "%%writefile main.py\n",
        "\n",
        "from flask import Flask, render_template, request, jsonify\n",
        "from textblob import TextBlob\n",
        "import nltk\n",
        "nltk.download('punkt')\n",
        "app = Flask(__name__)\n",
        "\n",
        "@app.route('/') # default route\n",
        "def new():\n",
        "\treturn render_template('index.html') # renders template: index.html with argument result = \"\"\n",
        "\n",
        "@app.route('/predict', methods = ['POST']) # /result route, allowed request methods; POST, and GET\n",
        "def predict():\n",
        "\tname = request.form['name']\n",
        "\tblob = TextBlob(name)\n",
        "\tfor sentence in blob.sentences:\n",
        "\t\tresult = sentence.sentiment.polarity\n",
        "\tif result>0:\n",
        "\t\tresult=str(int(result*100))+\"% Positive\"\n",
        "\telif result<0:\n",
        "\t\tresult=str(int(abs(result)*100))+\"% Negative\"\n",
        "\n",
        "\telse:\n",
        "\t\tresult=\"Neutral\" # result = polarity value\n",
        "\treturn jsonify(result = result)\n",
        "\t\t\n",
        "\n",
        "if __name__ == '__main__':\n",
        "\tapp.debug = True\n",
        "\tapp.run()\n"
      ],
      "execution_count": 0,
      "outputs": [
        {
          "output_type": "stream",
          "text": [
            "Writing main.py\n"
          ],
          "name": "stdout"
        }
      ]
    },
    {
      "cell_type": "code",
      "metadata": {
        "id": "0Lm-3Q8wj7Am",
        "colab_type": "code",
        "outputId": "c5e310a6-3d81-4ddc-d425-f79fcd2e175e",
        "colab": {
          "base_uri": "https://localhost:8080/",
          "height": 84
        }
      },
      "source": [
        "!tail logs.txt"
      ],
      "execution_count": 9,
      "outputs": [
        {
          "output_type": "stream",
          "text": [
            " * Running on http://127.0.0.1:5000/ (Press CTRL+C to quit)\n",
            " * Restarting with stat\n",
            " * Debugger is active!\n",
            " * Debugger PIN: 531-119-462\n"
          ],
          "name": "stdout"
        }
      ]
    }
  ]
}